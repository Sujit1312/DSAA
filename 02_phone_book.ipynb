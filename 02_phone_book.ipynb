{
 "cells": [
  {
   "cell_type": "code",
   "execution_count": 31,
   "id": "54b694d5-6d6f-4e4c-a683-8c5efc18aeb7",
   "metadata": {},
   "outputs": [
    {
     "name": "stdin",
     "output_type": "stream",
     "text": [
      "Enter 1 for chaining method \n",
      "Enter 2 for linear probing method\n",
      " 2\n",
      "Enter 1 to insert a Phone Number in the directory \n",
      "Enter 2 to search a Phone Number in the directory \n",
      "Enter 3 to Print the directory \n",
      "Enter 4 to delete a Phone Number \n",
      "Enter 5 to quit\n",
      " 1\n",
      "Enter the count of Phone Numbers to be inserted-\n",
      " 3\n",
      "Enter the Phone Number to be inserted-\n",
      " 9763378396\n",
      "Enter the country code here-\n",
      " +91\n"
     ]
    },
    {
     "name": "stdout",
     "output_type": "stream",
     "text": [
      "No collision occurred while inserting\n"
     ]
    },
    {
     "name": "stdin",
     "output_type": "stream",
     "text": [
      "Enter the Phone Number to be inserted-\n",
      " 8805530486\n",
      "Enter the country code here-\n",
      " +91\n"
     ]
    },
    {
     "name": "stdout",
     "output_type": "stream",
     "text": [
      "No collision occurred while inserting\n"
     ]
    },
    {
     "name": "stdin",
     "output_type": "stream",
     "text": [
      "Enter the Phone Number to be inserted-\n",
      " 7030399396\n",
      "Enter the country code here-\n",
      " +91\n"
     ]
    },
    {
     "name": "stdout",
     "output_type": "stream",
     "text": [
      "Collision occurred while inserting\n"
     ]
    },
    {
     "name": "stdin",
     "output_type": "stream",
     "text": [
      "Enter 1 to insert a Phone Number in the directory \n",
      "Enter 2 to search a Phone Number in the directory \n",
      "Enter 3 to Print the directory \n",
      "Enter 4 to delete a Phone Number \n",
      "Enter 5 to quit\n",
      " 3\n"
     ]
    },
    {
     "name": "stdout",
     "output_type": "stream",
     "text": [
      "[8805530486, '+91']\n",
      "[9763378396, '+91']\n",
      "[7030399396, '+91']\n"
     ]
    },
    {
     "name": "stdin",
     "output_type": "stream",
     "text": [
      "Enter 1 to insert a Phone Number in the directory \n",
      "Enter 2 to search a Phone Number in the directory \n",
      "Enter 3 to Print the directory \n",
      "Enter 4 to delete a Phone Number \n",
      "Enter 5 to quit\n",
      " 4\n",
      "Enter the Phone Number to be deleted from the directory-\n",
      " 7030399396\n",
      "Enter the country code here-\n",
      " +91\n",
      "Enter 1 to insert a Phone Number in the directory \n",
      "Enter 2 to search a Phone Number in the directory \n",
      "Enter 3 to Print the directory \n",
      "Enter 4 to delete a Phone Number \n",
      "Enter 5 to quit\n",
      " 3\n"
     ]
    },
    {
     "name": "stdout",
     "output_type": "stream",
     "text": [
      "[8805530486, '+91']\n",
      "[9763378396, '+91']\n"
     ]
    },
    {
     "name": "stdin",
     "output_type": "stream",
     "text": [
      "Enter 1 to insert a Phone Number in the directory \n",
      "Enter 2 to search a Phone Number in the directory \n",
      "Enter 3 to Print the directory \n",
      "Enter 4 to delete a Phone Number \n",
      "Enter 5 to quit\n",
      " 5\n"
     ]
    },
    {
     "name": "stdout",
     "output_type": "stream",
     "text": [
      "Thanks for trying out my code!\n"
     ]
    }
   ],
   "source": [
    "# chaining method\n",
    "\n",
    "SIZE = 100\n",
    "\n",
    "class Node:\n",
    "    def __init__(this, data, next):\n",
    "        this.data = data\n",
    "        this.next = None\n",
    "        \n",
    "def insert(head, data):\n",
    "    node = Node(data, None)\n",
    "    if (head == None):\n",
    "        return node\n",
    "    temp = head\n",
    "    while (temp.next != None):\n",
    "        temp = temp.next\n",
    "    temp.next = node\n",
    "    return head\n",
    "\n",
    "def delete(node):\n",
    "    if (node.next == None):\n",
    "        node.data = -1\n",
    "    else:\n",
    "        node = node.next\n",
    "        node.next = node.next.next\n",
    "    \n",
    "        \n",
    "class HashTableC:\n",
    "    ht = []\n",
    "    def __init__(this):\n",
    "        for i in range(SIZE):\n",
    "            node = Node(-1, None)\n",
    "            this.ht.append(node)\n",
    "    def hashFunction(this, data):\n",
    "        return (data % SIZE)\n",
    "    def insert(this, data):\n",
    "        index = this.hashFunction(data[0])\n",
    "        if (this.ht[index].data == -1):\n",
    "            print(\"No collision occurred while inserting\")\n",
    "            this.ht[index].data = data\n",
    "        else:\n",
    "            print(\"Collision occurred while inserting!\")\n",
    "            node = this.ht[index]\n",
    "            node = insert(node, data)\n",
    "    def printHashTable(this):\n",
    "        for i in range(SIZE):\n",
    "            if (this.ht[i].data != -1):\n",
    "                temp = this.ht[i]\n",
    "                while (temp.next != None):\n",
    "                    print(temp.data, end = \"->\")\n",
    "                    temp = temp.next\n",
    "                print(temp.data)\n",
    "    def search(this, data, node):\n",
    "        index = this.hashFunction(data[0])\n",
    "        temp = this.ht[index]\n",
    "        while (temp != None):\n",
    "            if (temp.data == -1):\n",
    "                print(\"Phone Number not present in the directory!\")\n",
    "                return\n",
    "            elif (temp.data == data):\n",
    "                print(\"Phone Number found in the directory!\")\n",
    "                node = temp\n",
    "                return\n",
    "            temp = temp.next\n",
    "        print(\"Phone Number not present in the directory!\")\n",
    "    def delete(this, data):\n",
    "        node = Node(-1, None)\n",
    "        this.search(data, node)\n",
    "        delete(node)\n",
    "        \n",
    "# linear probing\n",
    "        \n",
    "class HashTableLP:\n",
    "    ht = []\n",
    "    def __init__(this):\n",
    "        for i in range(SIZE):\n",
    "            this.ht.append(-1)\n",
    "    def hashFunction(this, data):\n",
    "        return (data % SIZE)\n",
    "    def insert(this, data):\n",
    "        index = this.hashFunction(data[0])\n",
    "        if (this.ht[index] == -1):\n",
    "            print(\"No collision occurred while inserting\")\n",
    "            this.ht[index] = data\n",
    "        else:\n",
    "            print(\"Collision occurred while inserting\")\n",
    "            flag = False\n",
    "            while (1):\n",
    "                if (index == SIZE):\n",
    "                    index = 0\n",
    "                if (this.ht[index] == -1):\n",
    "                    this.ht[index] = data\n",
    "                    flag = True\n",
    "                    return\n",
    "                index += 1\n",
    "            if (flag == False):\n",
    "                print(\"The directory is full!\")\n",
    "    def printHashTable(this):\n",
    "        for i in range(SIZE):\n",
    "            if (this.ht[i] != -1):\n",
    "                print(this.ht[i])\n",
    "    def search(this, data):\n",
    "        index = this.hashFunction(data[0])\n",
    "        if (this.ht[index][0] == data):\n",
    "            print(\"Phone Number found in the directory!\")\n",
    "            return\n",
    "        temp = index\n",
    "        index += 1\n",
    "        while (1):\n",
    "            if (index == SIZE):\n",
    "                index = 0\n",
    "            if (index == temp):\n",
    "                print(\"Phone Number not found in the directory!\")\n",
    "                break\n",
    "            if (this.ht[index][0] == data):\n",
    "                print(\"Phone Number found in the directory!\")\n",
    "                flag = True\n",
    "                break\n",
    "            index += 1\n",
    "    def delete(this, data):\n",
    "        index = this.ht.index(data)\n",
    "        this.ht[index] = -1\n",
    "        \n",
    "method = int(input(\"Enter 1 for chaining method \\nEnter 2 for linear probing method\\n\"))\n",
    "if (method == 1):\n",
    "    ht = HashTableC()\n",
    "elif (method == 2):\n",
    "    ht = HashTableLP()\n",
    "else:\n",
    "    print(\"Please enter a valid method!\")\n",
    "        \n",
    "while (1):\n",
    "    choice = int(input(\"Enter 1 to insert a Phone Number in the directory \\nEnter 2 to search a Phone Number in the directory \\nEnter 3 to Print the directory \\nEnter 4 to delete a Phone Number \\nEnter 5 to quit\\n\"))\n",
    "    if (choice == 1):\n",
    "        n = int(input(\"Enter the count of Phone Numbers to be inserted-\\n\"))\n",
    "        for i in range(n):\n",
    "            phone_number = int(input(\"Enter the Phone Number to be inserted-\\n\"))\n",
    "            country_code = input(\"Enter the country code here-\\n\")\n",
    "            x = [phone_number, country_code]\n",
    "            if (len(str(phone_number)) != 10):\n",
    "                print(\"Please enter a valid number!\")\n",
    "            else:\n",
    "                ht.insert(x)\n",
    "    elif (choice == 2):\n",
    "        phone_number = int(input(\"Enter the Phone Number to be searched in the directory-\\n\"))\n",
    "        country_code = input(\"Enter the country code here-\\n\")\n",
    "        ht.search([phone_number, country_code])\n",
    "    elif (choice == 3):\n",
    "        ht.printHashTable()\n",
    "    elif (choice == 4):\n",
    "        phone_number = int(input(\"Enter the Phone Number to be deleted from the directory-\\n\"))\n",
    "        country_code = input(\"Enter the country code here-\\n\")\n",
    "        ht.delete([phone_number, country_code])\n",
    "    elif (choice == 5):\n",
    "        print(\"Thanks for trying out my code!\")\n",
    "        break\n",
    "    else:\n",
    "        print(\"Please enter a valid choice\")"
   ]
  }
 ],
 "metadata": {
  "kernelspec": {
   "display_name": "Python 3 (ipykernel)",
   "language": "python",
   "name": "python3"
  },
  "language_info": {
   "codemirror_mode": {
    "name": "ipython",
    "version": 3
   },
   "file_extension": ".py",
   "mimetype": "text/x-python",
   "name": "python",
   "nbconvert_exporter": "python",
   "pygments_lexer": "ipython3",
   "version": "3.9.7"
  }
 },
 "nbformat": 4,
 "nbformat_minor": 5
}
